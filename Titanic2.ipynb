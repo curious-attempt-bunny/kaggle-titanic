{
 "cells": [
  {
   "cell_type": "code",
   "execution_count": 1,
   "metadata": {
    "collapsed": false
   },
   "outputs": [],
   "source": [
    "import pandas as pd\n",
    "import numpy as np\n",
    "import matplotlib.pyplot as plt\n",
    "from sklearn.pipeline import Pipeline\n",
    "from sklearn.model_selection import cross_val_score\n",
    "%matplotlib inline  "
   ]
  },
  {
   "cell_type": "code",
   "execution_count": 2,
   "metadata": {
    "collapsed": false
   },
   "outputs": [],
   "source": [
    "from sklearn.feature_selection import SelectFromModel\n",
    "from sklearn import svm\n",
    "def new_feature_selector():\n",
    "    return SelectFromModel(svm.LinearSVC(penalty='l1', dual=False, random_state=0))\n",
    "\n",
    "# feature_selector = SelectFromModel(svm.SVC())\n",
    "# feature_selector = SelectFromModel(svm.SVC())"
   ]
  },
  {
   "cell_type": "code",
   "execution_count": 3,
   "metadata": {
    "collapsed": false
   },
   "outputs": [],
   "source": [
    "train = pd.read_csv('train.csv', index_col='PassengerId')\n",
    "X = pd.DataFrame()\n",
    "y = train['Survived']"
   ]
  },
  {
   "cell_type": "code",
   "execution_count": 4,
   "metadata": {
    "collapsed": false
   },
   "outputs": [],
   "source": [
    "title = train['Name'].map(lambda x: \\\n",
    "                  (x.split(',')[1].split(' ')[2] if ' the ' in x \\\n",
    "                    else x.split(',')[1].split(' ')[1]) if (',' in x) \\\n",
    "                  else x.split(' ')[1]) #.drop_duplicates()\n",
    "X['title_Mr'] = title.map({'Mr.': 1}).fillna(0).astype(int)\n",
    "X['title_Mrs'] = title.map({'Mrs.': 1, 'Mlle.': 1}).fillna(0).astype(int)\n",
    "X['title_Miss'] = title.map({'Miss.': 1, 'Mme': 1}).fillna(0).astype(int)\n",
    "X['title_Master'] = title.map({'Master.': 1}).fillna(0).astype(int)\n",
    "X['title_Other'] = ((X['title_Mr'] + X['title_Mrs'] + X['title_Miss'] + X['title_Master']) == 0).astype(int)\n",
    "# 0.787859777551"
   ]
  },
  {
   "cell_type": "code",
   "execution_count": 5,
   "metadata": {
    "collapsed": false
   },
   "outputs": [],
   "source": [
    "X['Pclass'] = train['Pclass']\n",
    "# 0.770006525933"
   ]
  },
  {
   "cell_type": "code",
   "execution_count": 6,
   "metadata": {
    "collapsed": false
   },
   "outputs": [],
   "source": [
    "X['male'] = (train['Sex'] == 'male').astype(int)\n",
    "# 0.781255816593"
   ]
  },
  {
   "cell_type": "code",
   "execution_count": 7,
   "metadata": {
    "collapsed": false
   },
   "outputs": [],
   "source": [
    "X['FamilySize'] = train['SibSp'] + train['Parch'] + 1\n",
    "# 0.829397060493"
   ]
  },
  {
   "cell_type": "code",
   "execution_count": 8,
   "metadata": {
    "collapsed": true
   },
   "outputs": [],
   "source": [
    "X['Alone'] = (X['FamilySize'] == 1).astype(int)\n",
    "# 0.828273464987"
   ]
  },
  {
   "cell_type": "code",
   "execution_count": 9,
   "metadata": {
    "collapsed": false
   },
   "outputs": [],
   "source": [
    "X['SiblingCount'] = train['SibSp']\n",
    "# 0.829409544887"
   ]
  },
  {
   "cell_type": "code",
   "execution_count": 10,
   "metadata": {
    "collapsed": true
   },
   "outputs": [],
   "source": [
    "X['ParentChildCount'] = train['Parch']\n",
    "# 0.830520655998"
   ]
  },
  {
   "cell_type": "code",
   "execution_count": 11,
   "metadata": {
    "collapsed": false
   },
   "outputs": [],
   "source": [
    "X['Age'] = train['Age'].fillna(train['Age'].median())\n",
    "# 0.812667971853"
   ]
  },
  {
   "cell_type": "code",
   "execution_count": 12,
   "metadata": {
    "collapsed": false
   },
   "outputs": [],
   "source": [
    "X['Age'] = train['Age'].fillna(train['Age'].mean())\n",
    "# 0.812667971853"
   ]
  },
  {
   "cell_type": "code",
   "execution_count": 13,
   "metadata": {
    "collapsed": false
   },
   "outputs": [],
   "source": [
    "missing = train['Age'].isnull().sum()\n",
    "samples = train[ train['Age'].notnull() ]['Age'].sample(missing, random_state=0).values\n",
    "X['Age'] = train['Age']\n",
    "X.loc[ X['Age'].isnull(), 'Age'] = samples\n",
    "# 0.810483486551"
   ]
  },
  {
   "cell_type": "code",
   "execution_count": 14,
   "metadata": {
    "collapsed": false
   },
   "outputs": [],
   "source": [
    "from sklearn import linear_model\n",
    "reg = linear_model.Lasso()\n",
    "X['Age'] = train['Age']\n",
    "X_present = X[ X['Age'].notnull() ].drop('Age', axis=1)\n",
    "y_present = X[ X['Age'].notnull() ]['Age']\n",
    "missing = X[ X['Age'].isnull() ].drop('Age', axis=1)\n",
    "reg.fit(X_present, y_present)\n",
    "missing['Age'] = reg.predict(missing)\n",
    "\n",
    "X['Age'] = X['Age'].fillna(missing['Age']) #missing[ missing['Age'].notnull() ]['Age']\n",
    "\n",
    "# 0.817099931903"
   ]
  },
  {
   "cell_type": "code",
   "execution_count": 15,
   "metadata": {
    "collapsed": false
   },
   "outputs": [],
   "source": [
    "from sklearn.preprocessing import OneHotEncoder\n",
    "from sklearn.preprocessing import LabelEncoder\n",
    "\n",
    "embarked_labels = train['Embarked']\n",
    "embarked_labels = embarked_labels.fillna(embarked_labels.mode()[0])\n",
    "enc = LabelEncoder()\n",
    "enc.fit(embarked_labels)\n",
    "classes = enc.classes_\n",
    "embarked_categories = enc.transform(embarked_labels).reshape(-1, 1)\n",
    "# print embarked_categories\n",
    "enc = OneHotEncoder()\n",
    "enc.fit(embarked_categories)\n",
    "encoded_categories = enc.transform(embarked_categories).toarray()\n",
    "for i in np.arange(len(classes)):\n",
    "    X['Embarked_'+classes[i]] = encoded_categories[:, i].astype(int)\n",
    "    \n",
    "# df['PassengerId'] = X['PassengerId']\n",
    "# df.index = 'PassengerId'\n",
    "# X = X.concat(df)\n",
    "# X.head(3)\n",
    "\n",
    "# 0.813728577914"
   ]
  },
  {
   "cell_type": "code",
   "execution_count": 16,
   "metadata": {
    "collapsed": true
   },
   "outputs": [],
   "source": [
    "X['Fare'] = train['Fare']\n",
    "# 0.729670865963"
   ]
  },
  {
   "cell_type": "code",
   "execution_count": 17,
   "metadata": {
    "collapsed": true
   },
   "outputs": [],
   "source": [
    "# TODO:\n",
    "# normalize inputs\n",
    "# polynomial transform"
   ]
  },
  {
   "cell_type": "code",
   "execution_count": 18,
   "metadata": {
    "collapsed": false
   },
   "outputs": [],
   "source": [
    "from sklearn.model_selection import train_test_split\n",
    "X_train, X_test, y_train, y_test = train_test_split(X, y, test_size=0.33, random_state=0)\n"
   ]
  },
  {
   "cell_type": "markdown",
   "metadata": {},
   "source": [
    "# SVC"
   ]
  },
  {
   "cell_type": "code",
   "execution_count": 19,
   "metadata": {
    "collapsed": false,
    "scrolled": true
   },
   "outputs": [
    {
     "name": "stdout",
     "output_type": "stream",
     "text": [
      "0.747673646578\n",
      "0.728546986721\n",
      "[[152  32]\n",
      " [ 49  62]]\n"
     ]
    },
    {
     "data": {
      "text/plain": [
       "True"
      ]
     },
     "execution_count": 19,
     "metadata": {},
     "output_type": "execute_result"
    }
   ],
   "source": [
    "from sklearn import svm\n",
    "clf = svm.SVC(random_state=0)\n",
    "\n",
    "print cross_val_score(Pipeline([('classification', clf)]), X, y, cv=10).mean()\n",
    "print cross_val_score(Pipeline([('feature_selection', new_feature_selector()), ('classification', clf)]), X, y, cv=10).mean()\n",
    "# 0.728546986721\n",
    "\n",
    "from sklearn.metrics import confusion_matrix\n",
    "# clf = svm.SVC(random_state=0)\n",
    "# pipline = Pipeline([('feature_selection', new_feature_selector()), ('classification', clf)])\n",
    "# pipline.fit(X_train, y_train)\n",
    "# y_pred = pipeline.predict(X_test)\n",
    "clf.fit(X_train, y_train)\n",
    "y_pred = clf.predict(X_test)\n",
    "print confusion_matrix(y_test, y_pred)\n",
    "\n",
    "X_test[ y_pred < y_test ] # False negative\n",
    "X_test[ y_pred > y_test ] # False positive\n",
    "\n",
    "# TODO grid search\n",
    "# TODO other classifiers\n",
    "True"
   ]
  },
  {
   "cell_type": "code",
   "execution_count": null,
   "metadata": {
    "collapsed": false
   },
   "outputs": [],
   "source": [
    "from sklearn.model_selection import GridSearchCV\n",
    "\n",
    "clf = svm.SVC(random_state=0)\n",
    "\n",
    "param_grid = [\n",
    "  {'C': [0.01, 0.02, 0.03, 0.04, 0.05, 0.1, 0.15, 1, 10, 100, 1000], 'kernel':['rbf','poly','sigmoid']}\n",
    "]\n",
    "\n",
    "grid = GridSearchCV(clf, param_grid, cv=10, n_jobs=-1)\n",
    "grid.fit(X, y)\n",
    "np.array(grid.cv_results_['mean_test_score'])\n",
    "\n",
    "grid.best_params_"
   ]
  },
  {
   "cell_type": "markdown",
   "metadata": {},
   "source": [
    "# Linear SVC"
   ]
  },
  {
   "cell_type": "code",
   "execution_count": null,
   "metadata": {
    "collapsed": false
   },
   "outputs": [],
   "source": [
    "from sklearn import svm\n",
    "clf = svm.LinearSVC(C=0.03, random_state=0)\n",
    "\n",
    "print cross_val_score(Pipeline([('classification', clf)]), X, y, cv=10).mean()\n",
    "print cross_val_score(Pipeline([('feature_selection', new_feature_selector()), ('classification', clf)]), X, y, cv=10).mean()\n",
    "# 0.818185790489\n",
    "\n",
    "from sklearn.metrics import confusion_matrix\n",
    "# clf = svm.LinearSVC(random_state=0)\n",
    "# pipline = Pipeline([('feature_selection', new_feature_selector()), ('classification', clf)])\n",
    "# pipline.fit(X_train, y_train)\n",
    "# y_pred = pipeline.predict(X_test)\n",
    "clf.fit(X_train, y_train)\n",
    "y_pred = clf.predict(X_test)\n",
    "print confusion_matrix(y_test, y_pred)\n",
    "\n",
    "X_test[ y_pred < y_test ] # False negative\n",
    "X_test[ y_pred > y_test ] # False positive\n",
    "\n",
    "# TODO other classifiers\n",
    "True"
   ]
  },
  {
   "cell_type": "code",
   "execution_count": null,
   "metadata": {
    "collapsed": false
   },
   "outputs": [],
   "source": [
    "# from sklearn.model_selection import GridSearchCV\n",
    "\n",
    "# param_grid = [\n",
    "#   {'C': [0.01, 0.02, 0.03, 0.04, 0.05, 0.1, 0.15, 1, 10, 100, 1000]}\n",
    "# ]\n",
    "\n",
    "# grid = GridSearchCV(svm.LinearSVC(random_state=0, penalty='l2'), param_grid, cv=10) # , n_jobs=-1\n",
    "# grid.fit(X, y)\n",
    "# np.array(grid.cv_results_['mean_test_score'])\n",
    "\n",
    "# array([ 0.80695847,  0.81593715,  0.82042649,  0.82154882,  0.82491582,\n",
    "#         0.82042649,  0.81705948,  0.78787879,  0.74747475,  0.68911336,\n",
    "#         0.65432099])"
   ]
  },
  {
   "cell_type": "markdown",
   "metadata": {},
   "source": [
    "# KNN"
   ]
  },
  {
   "cell_type": "code",
   "execution_count": null,
   "metadata": {
    "collapsed": false
   },
   "outputs": [],
   "source": [
    "from sklearn.neighbors import KNeighborsClassifier\n",
    "\n",
    "clf = KNeighborsClassifier(n_neighbors=14, weights='distance')\n",
    "\n",
    "print cross_val_score(Pipeline([('classification', clf)]), X, y, cv=10).mean()\n",
    "print cross_val_score(Pipeline([('feature_selection', new_feature_selector()), ('classification', clf)]), X, y, cv=10).mean()\n",
    "# 0.72958205652\n",
    "\n",
    "from sklearn.metrics import confusion_matrix\n",
    "# clf = svm.LinearSVC(random_state=0)\n",
    "# pipline = Pipeline([('feature_selection', new_feature_selector()), ('classification', clf)])\n",
    "# pipline.fit(X_train, y_train)\n",
    "# y_pred = pipeline.predict(X_test)\n",
    "clf.fit(X_train, y_train)\n",
    "y_pred = clf.predict(X_test)\n",
    "print confusion_matrix(y_test, y_pred)\n",
    "\n",
    "X_test[ y_pred < y_test ] # False negative\n",
    "X_test[ y_pred > y_test ] # False positive\n",
    "\n",
    "# TODO other classifiers\n",
    "True"
   ]
  },
  {
   "cell_type": "code",
   "execution_count": null,
   "metadata": {
    "collapsed": false
   },
   "outputs": [],
   "source": [
    "# from sklearn.model_selection import GridSearchCV\n",
    "\n",
    "# param_grid = [\n",
    "#   {'n_neighbors': np.arange(1,30), 'weights':['uniform', 'distance']}\n",
    "# ]\n",
    "\n",
    "# grid = GridSearchCV(KNeighborsClassifier(), param_grid, cv=10, n_jobs=-1)\n",
    "# grid.fit(X, y)\n",
    "# np.array(grid.cv_results_['mean_test_score'])\n",
    "\n",
    "# grid.best_params_ # {'n_neighbors': 14, 'weights': 'distance'}"
   ]
  }
 ],
 "metadata": {
  "anaconda-cloud": {},
  "kernelspec": {
   "display_name": "Python [Root]",
   "language": "python",
   "name": "Python [Root]"
  },
  "language_info": {
   "codemirror_mode": {
    "name": "ipython",
    "version": 2
   },
   "file_extension": ".py",
   "mimetype": "text/x-python",
   "name": "python",
   "nbconvert_exporter": "python",
   "pygments_lexer": "ipython2",
   "version": "2.7.12"
  }
 },
 "nbformat": 4,
 "nbformat_minor": 1
}
