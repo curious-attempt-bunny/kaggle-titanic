{
 "cells": [
  {
   "cell_type": "code",
   "execution_count": 41,
   "metadata": {
    "collapsed": true
   },
   "outputs": [],
   "source": [
    "import pandas as pd\n",
    "import numpy as np"
   ]
  },
  {
   "cell_type": "code",
   "execution_count": 42,
   "metadata": {
    "collapsed": true
   },
   "outputs": [],
   "source": [
    "train = pd.read_csv('train.csv', index_col='PassengerId')"
   ]
  },
  {
   "cell_type": "code",
   "execution_count": 43,
   "metadata": {
    "collapsed": true
   },
   "outputs": [],
   "source": [
    "X = pd.DataFrame()\n",
    "y = train['Survived']"
   ]
  },
  {
   "cell_type": "markdown",
   "metadata": {},
   "source": [
    "Copy across numeric fields without missing data"
   ]
  },
  {
   "cell_type": "code",
   "execution_count": 44,
   "metadata": {
    "collapsed": false
   },
   "outputs": [],
   "source": [
    "X['Pclass'] = train['Pclass'] # ordinal\n",
    "X['SibSp'] = train['SibSp']\n",
    "X['Parch'] = train['Parch']"
   ]
  },
  {
   "cell_type": "markdown",
   "metadata": {},
   "source": [
    "Convert Sex to categorical"
   ]
  },
  {
   "cell_type": "code",
   "execution_count": 45,
   "metadata": {
    "collapsed": false
   },
   "outputs": [],
   "source": [
    "X['Female'] = np.where(train['Sex'] == 'female', 1, 0)"
   ]
  },
  {
   "cell_type": "markdown",
   "metadata": {},
   "source": [
    "Extract Title from Name"
   ]
  },
  {
   "cell_type": "code",
   "execution_count": 61,
   "metadata": {
    "collapsed": false
   },
   "outputs": [
    {
     "data": {
      "text/plain": [
       "array(['Mr.', 'Mrs.', 'Miss.', 'Master.', 'Don.', 'Rev.', 'Dr.', 'Mme.',\n",
       "       'Ms.', 'Major.', 'Lady.', 'Sir.', 'Mlle.', 'Col.', 'Capt.',\n",
       "       'Countess.', 'Jonkheer.'], dtype=object)"
      ]
     },
     "execution_count": 61,
     "metadata": {},
     "output_type": "execute_result"
    }
   ],
   "source": [
    "title = train['Name'].map(lambda x: \\\n",
    "                  (x.split(',')[1].split(' ')[2] if ' the ' in x \\\n",
    "                    else x.split(',')[1].split(' ')[1]) if (',' in x) \\\n",
    "                  else x.split(' ')[1]) \n",
    "X['Title_Mr'] = title.isin(['Mr.']).astype(int)\n",
    "X['Title_Mrs'] = title.isin(['Mrs.', 'Mlle.']).astype(int)\n",
    "X['Title_Miss'] = title.isin(['Miss.', 'Mme', 'Ms.']).astype(int)\n",
    "X['Title_Miss'] = title.isin(['Master.']).astype(int)\n",
    "X['title_Other'] = ((X['Title_Mr'] + X['Title_Mrs'] + X['Title_Miss'] + X['Title_Master']) == 0).astype(int)\n"
   ]
  },
  {
   "cell_type": "markdown",
   "metadata": {},
   "source": [
    "Predict missing Age"
   ]
  },
  {
   "cell_type": "code",
   "execution_count": 52,
   "metadata": {
    "collapsed": false
   },
   "outputs": [],
   "source": [
    "X_with = X[ train['Age'].notnull() ]\n",
    "X_without = X[ train['Age'].isnull() ]\n",
    "\n",
    "from sklearn import linear_model\n",
    "reg = linear_model.Lasso(alpha = 0.1)\n",
    "reg.fit(X_with, train[ train['Age'].notnull() ]['Age'])\n",
    "\n",
    "X['Age'] = train['Age']\n",
    "X.loc[ train['Age'].isnull(), 'Age'] = reg.predict(X_without)\n",
    "X['Age'] = X['Age'].astype(int)"
   ]
  }
 ],
 "metadata": {
  "kernelspec": {
   "display_name": "Python [Root]",
   "language": "python",
   "name": "Python [Root]"
  },
  "language_info": {
   "codemirror_mode": {
    "name": "ipython",
    "version": 2
   },
   "file_extension": ".py",
   "mimetype": "text/x-python",
   "name": "python",
   "nbconvert_exporter": "python",
   "pygments_lexer": "ipython2",
   "version": "2.7.12"
  }
 },
 "nbformat": 4,
 "nbformat_minor": 0
}
